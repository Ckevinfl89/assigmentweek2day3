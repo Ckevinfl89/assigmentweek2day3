{
 "cells": [
  {
   "cell_type": "markdown",
   "metadata": {},
   "source": [
    "### Exercise 1"
   ]
  },
  {
   "cell_type": "markdown",
   "metadata": {},
   "source": [
    "Given an array of positive integers `nums`, return a list of all of the negative integers.<br>\n",
    "Ex. 1<br>\n",
    "nums = [1, 3, 5, 7, 8]<br>\n",
    "Expected Output: [-1, -3, -5, -7, -8]<br>\n",
    "\n",
    "Ex. 2<br>\n",
    "nums = [100, 534, 32, 15, 77, 222, 788, 345, 75645, 22]<br>\n",
    "Expected Output: [-100, -534, -32, -15, -77, -222, -788, -345, -75645, -22]<br>"
   ]
  },
  {
   "cell_type": "code",
   "execution_count": 6,
   "metadata": {},
   "outputs": [
    {
     "name": "stdout",
     "output_type": "stream",
     "text": [
      "Enter a number, any number, and I will return a negative number 5\n",
      "[-1, -3, -5, -7, -8]\n"
     ]
    }
   ],
   "source": [
    "# transform any number to a negative\n",
    "# def negative_number():\n",
    "#     response = int(input (\"Enter a number, any number, and I will return a negative number \"))\n",
    "#     if response > 0:\n",
    "#         return response * (-1)\n",
    "# negative_number()\n",
    "def negative_list(nums):\n",
    "    my_list = []\n",
    "    for num in nums:\n",
    "        new_num = -1 * num\n",
    "        my_list.append(new_num)\n",
    "    return my_list\n",
    "    \n",
    "print(negative_list([1, 3, 5, 7, 8]))"
   ]
  },
  {
   "cell_type": "markdown",
   "metadata": {},
   "source": [
    "### Exercise 2"
   ]
  },
  {
   "cell_type": "markdown",
   "metadata": {},
   "source": [
    "Given a string, return a list of all of the digits in the string.<br>\n",
    "Ex. 1 <br>\n",
    "address = \"123 Real Street, Apt. 2, Springfield, OR 43498\"<br>\n",
    "Expected Output: ['1', '2', '3', '2', '4', '3', '4', '9', '8']<br>\n",
    "\n",
    "Ex. 2 <br>\n",
    "sentence = \"My phone number is (555) 555-4321\"<br>\n",
    "Expected Output: ['5', '5', '5', '5', '5', '5', '4', '3', '2', '1']<br>"
   ]
  },
  {
   "cell_type": "code",
   "execution_count": 8,
   "metadata": {},
   "outputs": [
    {
     "data": {
      "text/plain": [
       "['5', '5', '5', '5', '5', '5', '4', '3', '2', '1']"
      ]
     },
     "execution_count": 8,
     "metadata": {},
     "output_type": "execute_result"
    }
   ],
   "source": [
    "# Hint: Look at the string methods! -- help(str)\n",
    "address = \"123 Real Street, Apt. 2, Springfield, OR 43498\"\n",
    "# num= []\n",
    "# for i in address:\n",
    "#     if i.isdigit():\n",
    "#         num.append(i)\n",
    "# print(num)\n",
    "\n",
    "# address = \"123 Real Street, Apt. 2, Springfield, OR 43498\"\n",
    "\n",
    "def is_digits(str):\n",
    "    numbers = []\n",
    "    for char in str:\n",
    "        if char.isdigit():\n",
    "            numbers.append(char)\n",
    "    return(numbers)\n",
    "            \n",
    " \n",
    "\n",
    "is_digits(\"My phone number is (555) 555-4321\")\n",
    "\n",
    "#   .isdigit()"
   ]
  },
  {
   "cell_type": "markdown",
   "metadata": {},
   "source": [
    "### Exercise 3"
   ]
  },
  {
   "cell_type": "markdown",
   "metadata": {},
   "source": [
    "Given a string `digits`, return a **string** of the digits + 1<br>\n",
    "\n",
    "Ex. 1<br>\n",
    "digits = '123'<br>\n",
    "Expected Output: '124'<br>\n",
    "\n",
    "Ex. 2<br>\n",
    "digits = '99'<br>\n",
    "Expected Output: '100'<br>"
   ]
  },
  {
   "cell_type": "code",
   "execution_count": 3,
   "metadata": {},
   "outputs": [
    {
     "data": {
      "text/plain": [
       "'100'"
      ]
     },
     "execution_count": 3,
     "metadata": {},
     "output_type": "execute_result"
    }
   ],
   "source": [
    "digits = '123'\n",
    "def add_1(digits):\n",
    "    new = int(digits)\n",
    "    new += 1\n",
    "    new_1=str(new)\n",
    "    return new_1\n",
    "    \n",
    "add_1(digits)\n",
    "add_1(\"99\")\n",
    "    "
   ]
  },
  {
   "cell_type": "code",
   "execution_count": null,
   "metadata": {},
   "outputs": [],
   "source": []
  }
 ],
 "metadata": {
  "kernelspec": {
   "display_name": "Python 3 (ipykernel)",
   "language": "python",
   "name": "python3"
  },
  "language_info": {
   "codemirror_mode": {
    "name": "ipython",
    "version": 3
   },
   "file_extension": ".py",
   "mimetype": "text/x-python",
   "name": "python",
   "nbconvert_exporter": "python",
   "pygments_lexer": "ipython3",
   "version": "3.10.9"
  }
 },
 "nbformat": 4,
 "nbformat_minor": 4
}
